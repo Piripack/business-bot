{
  "nbformat": 4,
  "nbformat_minor": 0,
  "metadata": {
    "colab": {
      "provenance": [],
      "authorship_tag": "ABX9TyOBplw7cojXEOuh85bvOu3y",
      "include_colab_link": true
    },
    "kernelspec": {
      "name": "python3",
      "display_name": "Python 3"
    },
    "language_info": {
      "name": "python"
    }
  },
  "cells": [
    {
      "cell_type": "markdown",
      "metadata": {
        "id": "view-in-github",
        "colab_type": "text"
      },
      "source": [
        "<a href=\"https://colab.research.google.com/github/Piripack/business-bot/blob/main/run_business_bot.ipynb\" target=\"_parent\"><img src=\"https://colab.research.google.com/assets/colab-badge.svg\" alt=\"Open In Colab\"/></a>"
      ]
    },
    {
      "cell_type": "markdown",
      "source": [
        "This script handles user interactions for a business bot. It connects to a SQLite database to verify user identity and respond to user queries about personal data, appointments, products, or FAQs."
      ],
      "metadata": {
        "id": "B62UigG5uuiu"
      }
    },
    {
      "cell_type": "code",
      "source": [
        "import sqlite3\n",
        "import re\n"
      ],
      "metadata": {
        "id": "p1HqisAbu81E"
      },
      "execution_count": null,
      "outputs": []
    },
    {
      "cell_type": "markdown",
      "source": [
        "Imports: Importing the sqlite3 module for database operations and the re module for regular expressions."
      ],
      "metadata": {
        "id": "oQMPINoNu9ys"
      }
    },
    {
      "cell_type": "code",
      "source": [
        "def get_db_connection():\n",
        "    conn = sqlite3.connect('business_bot.db')\n",
        "    return conn\n"
      ],
      "metadata": {
        "id": "B52nEm6nvBMl"
      },
      "execution_count": null,
      "outputs": []
    },
    {
      "cell_type": "markdown",
      "source": [
        "Database Connection: Defines a function that connects to the business_bot.db SQLite database and returns the connection object."
      ],
      "metadata": {
        "id": "d-aTSoefvH74"
      }
    },
    {
      "cell_type": "code",
      "source": [
        "def execute_query(query, params=()):\n",
        "    conn = get_db_connection()\n",
        "    c = conn.cursor()\n",
        "    c.execute(query, params)\n",
        "    results = c.fetchall()\n",
        "    conn.close()\n",
        "    return results\n"
      ],
      "metadata": {
        "id": "odI3d_aEvIk5"
      },
      "execution_count": null,
      "outputs": []
    },
    {
      "cell_type": "markdown",
      "source": [
        "Execute SQL Query: Defines a function that executes a given SQL query with optional parameters, fetches all results, closes the database connection, and returns the results."
      ],
      "metadata": {
        "id": "OiVi4eKkvLty"
      }
    },
    {
      "cell_type": "code",
      "source": [
        "def question_to_sql(question, email=None):\n",
        "    question = question.lower()\n",
        "\n",
        "    if email:\n",
        "        if \"id\" in question:\n",
        "            return \"SELECT id FROM users WHERE email = ?\", (email,)\n",
        "        if \"password\" in question:\n",
        "            return \"SELECT password FROM users WHERE email = ?\", (email,)\n",
        "        if \"dob\" in question or \"date of birth\" in question:\n",
        "            return \"SELECT dob FROM users WHERE email = ?\", (email,)\n",
        "        if \"favorite color\" in question or \"fav color\" in question:\n",
        "            return \"SELECT fav_color FROM users WHERE email = ?\", (email,)\n",
        "        if \"name\" in question:\n",
        "            return \"SELECT name FROM users WHERE email = ?\", (email,)\n",
        "        if \"phone\" in question:\n",
        "            return \"SELECT phone FROM users WHERE email = ?\", (email,)\n",
        "        if \"address\" in question:\n",
        "            return \"SELECT address FROM users WHERE email = ?\", (email,)\n",
        "        if \"registration date\" in question:\n",
        "            return \"SELECT registration_date FROM users WHERE email = ?\", (email,)\n",
        "        if \"last login\" in question:\n",
        "            return \"SELECT last_login FROM users WHERE email = ?\", (email,)\n",
        "\n",
        "    if \"appointment\" in question:\n",
        "        if \"schedule\" in question or \"book\" in question:\n",
        "            return \"INSERT INTO appointments (user_id, date, time, description) VALUES (?, ?, ?, ?)\"\n",
        "        if \"view\" in question or \"list\" in question:\n",
        "            return \"SELECT * FROM appointments\"\n",
        "\n",
        "    if \"product\" in question:\n",
        "        if \"price\" in question:\n",
        "            product_match = re.search(r'product\\\\s*=\\\\s*(\\\\w+)', question)\n",
        "            if product_match:\n",
        "                product_name = product_match.group(1)\n",
        "                return \"SELECT price FROM products WHERE name = ?\", (product_name,)\n",
        "\n",
        "    if \"faq\" in question or \"question\" in question:\n",
        "        return \"SELECT question, answer FROM faqs\"\n",
        "\n",
        "    return None, None\n"
      ],
      "metadata": {
        "id": "r7UYZkDZvMp2"
      },
      "execution_count": null,
      "outputs": []
    },
    {
      "cell_type": "markdown",
      "source": [
        "Translate Question to SQL Query: Defines a function that translates user questions into corresponding SQL queries based on the question content and email provided."
      ],
      "metadata": {
        "id": "2qIxSAzZvQDv"
      }
    },
    {
      "cell_type": "code",
      "source": [
        "def verify_email(email):\n",
        "    query = \"SELECT email FROM users WHERE email = ?\"\n",
        "    params = (email,)\n",
        "    results = execute_query(query, params)\n",
        "\n",
        "    if results:\n",
        "        return True\n",
        "    else:\n",
        "        return False"
      ],
      "metadata": {
        "id": "EfHi-B_ovQpI"
      },
      "execution_count": null,
      "outputs": []
    },
    {
      "cell_type": "markdown",
      "source": [
        "Verify Email: Defines a function that checks if an email exists in the users table of the database."
      ],
      "metadata": {
        "id": "yzHiUccSvSiP"
      }
    },
    {
      "cell_type": "code",
      "source": [
        "def verify_user():\n",
        "    while True:\n",
        "        email = input(\"Bot: Please enter your email: \").strip()\n",
        "\n",
        "        if verify_email(email):\n",
        "            print(\"Bot: Email found in our system.\")\n",
        "            while True:\n",
        "                password = input(\"Bot: Please enter your password: \").strip()\n",
        "                query = \"SELECT * FROM users WHERE email = ? AND password = ?\"\n",
        "                params = (email, password)\n",
        "                results = execute_query(query, params)\n",
        "\n",
        "                if results:\n",
        "                    print(\"Bot: You are successfully logged in!\")\n",
        "                    return True, email\n",
        "                else:\n",
        "                    print(\"Bot: Incorrect password. Please try again.\")\n",
        "        else:\n",
        "            print(\"Bot: This email is not registered in our system.\")\n",
        "            user_input = input(\"Bot: Would you like to try a different email? (yes/no): \").strip().lower()\n",
        "            if user_input in [\"no\", \"bye\", \"exit\", \"quit\", \"goodbye\", \"thanks\"]:\n",
        "                print(\"Bot: Goodbye! Have a great day!\")\n",
        "                return False, None\n"
      ],
      "metadata": {
        "id": "SaLctH8jvTWJ"
      },
      "execution_count": null,
      "outputs": []
    },
    {
      "cell_type": "markdown",
      "source": [
        "Verify User: Defines a function that prompts the user to enter their email and password, verifies their credentials, and allows retrying on failure. If the email is not found, it offers to retry with a different email or exit."
      ],
      "metadata": {
        "id": "48AO2e6ovWSS"
      }
    },
    {
      "cell_type": "code",
      "source": [
        "def handle_greeting():\n",
        "    print(\"Bot: Hello! How can I help you today?\")\n",
        "\n",
        "    while True:\n",
        "        user_input = input(\"User: \").strip().lower()\n",
        "\n",
        "        if user_input in [\"hi\", \"hello\", \"hey\"]:\n",
        "            print(\"Bot: How can I assist you today? You can ask about appointments, products, or FAQs.\")\n",
        "            user_input = input(\"User: \").strip().lower()\n",
        "\n",
        "            print(\"Bot: I can help with that. But first, I need to verify your identity.\")\n",
        "            verified, email = verify_user()\n",
        "            if verified:\n",
        "                query, params = question_to_sql(user_input, email)\n",
        "                if query:\n",
        "                    results = execute_query(query, params)\n",
        "                    if results:\n",
        "                        for row in results:\n",
        "                            print(f\"Bot: Your {user_input} is {row[0]}\")\n",
        "                    else:\n",
        "                        print(f\"Bot: No information found for {user_input}.\")\n",
        "\n",
        "                while True:\n",
        "                    print(\"Bot: How can I assist you further? You can ask about your data, appointments, products, or FAQs.\")\n",
        "                    user_input = input(\"User: \").strip().lower()\n",
        "                    query, params = question_to_sql(user_input, email)\n",
        "                    if query:\n",
        "                        results = execute_query(query, params)\n",
        "                        if results:\n",
        "                            for row in results:\n",
        "                                print(f\"Bot: Your {user_input} is {row[0]}\")\n",
        "                        else:\n",
        "                            print(f\"Bot: No information found for {user_input}.\")\n",
        "                    else:\n",
        "                        print(\"Bot: I'm sorry, I don't understand your question.\")\n",
        "\n",
        "                    if user_input in [\"no\", \"thank you\", \"bye\", \"exit\", \"quit\", \"goodbye\", \"thanks\"]:\n",
        "                        print(\"Bot: You're welcome! Have a great day!\")\n",
        "                        break\n"
      ],
      "metadata": {
        "id": "kPZhCq4BvW5p"
      },
      "execution_count": null,
      "outputs": []
    },
    {
      "cell_type": "markdown",
      "source": [
        "Handle Greeting and Responses: Defines a function that greets the user, processes initial input, verifies user identity, and handles further queries in a loop."
      ],
      "metadata": {
        "id": "pwUYKCAjvYp-"
      }
    },
    {
      "cell_type": "code",
      "source": [
        "def bot_interaction():\n",
        "    while True:\n",
        "        handle_greeting()\n",
        "\n",
        "        user_input = input(\"User: \").strip().lower()\n",
        "        if user_input in [\"no\", \"thank you\", \"bye\", \"exit\", \"quit\", \"goodbye\", \"thanks\"]:\n",
        "            print(\"Bot: You're welcome! Have a great day!\")\n",
        "            break\n"
      ],
      "metadata": {
        "id": "ziaXwbS9vZ5B"
      },
      "execution_count": null,
      "outputs": []
    },
    {
      "cell_type": "markdown",
      "source": [
        "Bot Interaction Loop: Defines a function that runs the bot interaction in a loop, continuing until the user indicates they are done."
      ],
      "metadata": {
        "id": "XEiMtH4Qvbyx"
      }
    },
    {
      "cell_type": "code",
      "source": [
        "bot_interaction()\n"
      ],
      "metadata": {
        "id": "9_yQEpOQvcuX"
      },
      "execution_count": null,
      "outputs": []
    },
    {
      "cell_type": "markdown",
      "source": [
        "Start Bot Interaction: Initiates the bot interaction by calling the bot_interaction function."
      ],
      "metadata": {
        "id": "_jLX1Xwevds6"
      }
    }
  ]
}