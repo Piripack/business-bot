{
  "nbformat": 4,
  "nbformat_minor": 0,
  "metadata": {
    "colab": {
      "provenance": [],
      "authorship_tag": "ABX9TyMz3h0Z0L79R0hmvaX5cr8y",
      "include_colab_link": true
    },
    "kernelspec": {
      "name": "python3",
      "display_name": "Python 3"
    },
    "language_info": {
      "name": "python"
    }
  },
  "cells": [
    {
      "cell_type": "markdown",
      "metadata": {
        "id": "view-in-github",
        "colab_type": "text"
      },
      "source": [
        "<a href=\"https://colab.research.google.com/github/Piripack/business-bot/blob/main/Database_Setup_Script.ipynb\" target=\"_parent\"><img src=\"https://colab.research.google.com/assets/colab-badge.svg\" alt=\"Open In Colab\"/></a>"
      ]
    },
    {
      "cell_type": "markdown",
      "source": [
        "This script includes a setup_database.py script responsible for creating and populating the database required for the business bot."
      ],
      "metadata": {
        "id": "FovVp6MIrfdE"
      }
    },
    {
      "cell_type": "code",
      "source": [
        "import sqlite3\n",
        "from faker import Faker\n"
      ],
      "metadata": {
        "id": "69thowxVr0sc"
      },
      "execution_count": null,
      "outputs": []
    },
    {
      "cell_type": "markdown",
      "source": [
        "Imports: Importing the sqlite3 module for database operations and the Faker library for generating fake data."
      ],
      "metadata": {
        "id": "lD10TtKar6NQ"
      }
    },
    {
      "cell_type": "code",
      "source": [
        "fake = Faker()\n"
      ],
      "metadata": {
        "id": "Iiay8MrFr-EE"
      },
      "execution_count": null,
      "outputs": []
    },
    {
      "cell_type": "markdown",
      "source": [
        "Faker Instance: Creating an instance of the Faker class to generate fake data."
      ],
      "metadata": {
        "id": "TM09HPGhr_Ok"
      }
    },
    {
      "cell_type": "code",
      "source": [
        "# Create a SQLite database\n",
        "conn = sqlite3.connect('business_bot.db')\n",
        "c = conn.cursor()\n"
      ],
      "metadata": {
        "id": "6nflA_NssBWc"
      },
      "execution_count": null,
      "outputs": []
    },
    {
      "cell_type": "markdown",
      "source": [
        "Database Connection: Connecting to (or creating) a SQLite database file named business_bot.db and creating a cursor object c for executing SQL commands."
      ],
      "metadata": {
        "id": "wCQHlV7rsDBs"
      }
    },
    {
      "cell_type": "code",
      "source": [
        "# Create tables\n",
        "c.execute('''\n",
        "CREATE TABLE IF NOT EXISTS users (\n",
        "    id INTEGER PRIMARY KEY,\n",
        "    email TEXT,\n",
        "    password TEXT,\n",
        "    dob TEXT,\n",
        "    fav_color TEXT,\n",
        "    name TEXT,\n",
        "    phone TEXT,\n",
        "    address TEXT,\n",
        "    registration_date TEXT,\n",
        "    last_login TEXT\n",
        ")\n",
        "''')\n"
      ],
      "metadata": {
        "id": "LtHWhPuIsD6O"
      },
      "execution_count": null,
      "outputs": []
    },
    {
      "cell_type": "markdown",
      "source": [
        "Create Users Table: Executing an SQL command to create a users table if it doesn't already exist. This table includes columns for:\n",
        "id: A unique identifier for each user (primary key).\n",
        "email: User's email address.\n",
        "password: User's password.\n",
        "dob: User's date of birth.\n",
        "fav_color: User's favorite color.\n",
        "name: User's name.\n",
        "phone: User's phone number.\n",
        "address: User's address.\n",
        "registration_date: Date when the user registered.\n",
        "last_login: Date of the last login."
      ],
      "metadata": {
        "id": "EtIfRibZsEga"
      }
    },
    {
      "cell_type": "code",
      "source": [
        "c.execute('''\n",
        "CREATE TABLE IF NOT EXISTS appointments (\n",
        "    id INTEGER PRIMARY KEY,\n",
        "    user_id INTEGER,\n",
        "    date TEXT,\n",
        "    time TEXT,\n",
        "    description TEXT,\n",
        "    FOREIGN KEY(user_id) REFERENCES users(id)\n",
        ")\n",
        "''')\n"
      ],
      "metadata": {
        "id": "-3ahD3ZrsG6H"
      },
      "execution_count": null,
      "outputs": []
    },
    {
      "cell_type": "markdown",
      "source": [
        "Create Appointments Table: Executing an SQL command to create an appointments table if it doesn't already exist. This table includes columns for:\n",
        "id: A unique identifier for each appointment (primary key).\n",
        "user_id: Foreign key linking to the users table.\n",
        "date: Date of the appointment.\n",
        "time: Time of the appointment.\n",
        "description: Description of the appointment."
      ],
      "metadata": {
        "id": "nWGhxBgNsHXZ"
      }
    },
    {
      "cell_type": "code",
      "source": [
        "c.execute('''\n",
        "CREATE TABLE IF NOT EXISTS products (\n",
        "    id INTEGER PRIMARY KEY,\n",
        "    name TEXT,\n",
        "    description TEXT,\n",
        "    price REAL,\n",
        "    stock INTEGER\n",
        ")\n",
        "''')\n"
      ],
      "metadata": {
        "id": "-kMv3JK_sIlM"
      },
      "execution_count": null,
      "outputs": []
    },
    {
      "cell_type": "markdown",
      "source": [
        "Create Products Table: Executing an SQL command to create a products table if it doesn't already exist. This table includes columns for:\n",
        "id: A unique identifier for each product (primary key).\n",
        "name: Product's name.\n",
        "description: Description of the product.\n",
        "price: Price of the product.\n",
        "stock: Quantity of the product in stock."
      ],
      "metadata": {
        "id": "ZGtXWIeXsJzD"
      }
    },
    {
      "cell_type": "code",
      "source": [
        "c.execute('''\n",
        "CREATE TABLE IF NOT EXISTS faqs (\n",
        "    id INTEGER PRIMARY KEY,\n",
        "    question TEXT,\n",
        "    answer TEXT\n",
        ")\n",
        "''')\n"
      ],
      "metadata": {
        "id": "JJzum05qsMTm"
      },
      "execution_count": null,
      "outputs": []
    },
    {
      "cell_type": "markdown",
      "source": [
        "Create FAQs Table: Executing an SQL command to create a faqs table if it doesn't already exist. This table includes columns for:\n",
        "id: A unique identifier for each FAQ (primary key).\n",
        "question: FAQ question.\n",
        "answer: FAQ answer."
      ],
      "metadata": {
        "id": "3BZkqp39sOR1"
      }
    },
    {
      "cell_type": "code",
      "source": [
        "# Populate users table with 100 rows of data\n",
        "for _ in range(100):\n",
        "    c.execute('''\n",
        "    INSERT INTO users (email, password, dob, fav_color, name, phone, address, registration_date, last_login)\n",
        "    VALUES (?, ?, ?, ?, ?, ?, ?, ?, ?)\n",
        "    ''', (\n",
        "        fake.email(),\n",
        "        fake.password(),\n",
        "        fake.date_of_birth(tzinfo=None, minimum_age=18, maximum_age=90).isoformat(),\n",
        "        fake.color_name(),\n",
        "        fake.name(),\n",
        "        fake.phone_number(),\n",
        "        fake.address(),\n",
        "        fake.date_this_decade().isoformat(),\n",
        "        fake.date_this_year().isoformat()\n",
        "    ))\n"
      ],
      "metadata": {
        "id": "nKY0OOzlsPb3"
      },
      "execution_count": null,
      "outputs": []
    },
    {
      "cell_type": "markdown",
      "source": [
        "Insert Fake User Data: Looping 100 times to insert fake data into the users table. For each iteration, generating:\n",
        "email: Fake email.\n",
        "password: Fake password.\n",
        "dob: Fake date of birth.\n",
        "fav_color: Fake favorite color.\n",
        "name: Fake name.\n",
        "phone: Fake phone number.\n",
        "address: Fake address.\n",
        "registration_date: Fake date of registration within the current decade.\n",
        "last_login: Fake date of last login within the current year."
      ],
      "metadata": {
        "id": "wk9HEhutsRMN"
      }
    },
    {
      "cell_type": "code",
      "source": [
        "# Populate products table with sample data\n",
        "products = [\n",
        "    (\"Product 1\", \"This is an amazing product 1.\", 29.99, 100),\n",
        "    (\"Product 2\", \"This is an amazing product 2.\", 49.99, 50),\n",
        "    (\"Product 3\", \"This is an amazing product 3.\", 19.99, 200)\n",
        "]\n",
        "c.executemany('INSERT INTO products (name, description, price, stock) VALUES (?, ?, ?, ?)', products)\n"
      ],
      "metadata": {
        "id": "SJ4qcJnRsR5L"
      },
      "execution_count": null,
      "outputs": []
    },
    {
      "cell_type": "markdown",
      "source": [
        "Insert Sample Products: Defining a list of sample products and inserting them into the products table using executemany to execute the insertion for multiple rows at once."
      ],
      "metadata": {
        "id": "64_S_r2PsTBS"
      }
    },
    {
      "cell_type": "code",
      "source": [
        "# Populate faqs table with sample data\n",
        "faqs = [\n",
        "    (\"What are your working hours?\", \"Our working hours are 9 AM to 5 PM from Monday to Friday.\"),\n",
        "    (\"Where are you located?\", \"We are located at 123 Business St., Manchester, UK.\")\n",
        "]\n",
        "c.executemany('INSERT INTO faqs (question, answer) VALUES (?, ?)', faqs)\n"
      ],
      "metadata": {
        "id": "-PG8T1J_sTyb"
      },
      "execution_count": null,
      "outputs": []
    },
    {
      "cell_type": "markdown",
      "source": [
        "Insert Sample FAQs: Defining a list of sample FAQs and inserting them into the faqs table using executemany for multiple rows at once."
      ],
      "metadata": {
        "id": "bMgTQtLZsVm9"
      }
    },
    {
      "cell_type": "code",
      "source": [
        "# Commit changes and close connection\n",
        "conn.commit()\n",
        "conn.close()\n"
      ],
      "metadata": {
        "id": "oYDAJTohsWfx"
      },
      "execution_count": null,
      "outputs": []
    },
    {
      "cell_type": "markdown",
      "source": [
        "Commit and Close: Committing the changes to the database (saving all the data inserted) and closing the connection to the database to ensure all resources are released."
      ],
      "metadata": {
        "id": "ZtRY-L_NsXB4"
      }
    }
  ]
}
